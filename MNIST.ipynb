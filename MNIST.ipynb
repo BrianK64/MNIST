{
 "cells": [
  {
   "cell_type": "markdown",
   "id": "82136b6b",
   "metadata": {},
   "source": [
    "Buildng and Training Neural Networks on MNIST"
   ]
  },
  {
   "cell_type": "markdown",
   "id": "998bf163",
   "metadata": {},
   "source": [
    "# 1. Build a Logistic Regression Model\n",
    "The most important part of the neural network is torch.nn - python neural network library.\n",
    "\n",
    "This library allows us to build neural networks by concatenating different types of layers."
   ]
  },
  {
   "cell_type": "code",
   "execution_count": null,
   "id": "3c6533f8",
   "metadata": {},
   "outputs": [],
   "source": [
    "import torch\n",
    "import torch.nn as nn\n",
    "\n",
    "def model(input_size, num_classes):\n",
    "    return nn.Linear(input_size, num_classes)"
   ]
  },
  {
   "cell_type": "markdown",
   "id": "979bf529",
   "metadata": {},
   "source": [
    "Define a function named model, which returns a linear model (xW^{T}+b) by nn.Linear(input_size, num_classes)\n",
    "\n",
    "    input_size is the size of the row vector x\n",
    "\n",
    "    num_classes is the number of classes to be classified\n",
    "\n",
    "    This model includes parameters W and b.\n",
    "\n",
    "In MNIST, the size of all the images is 1*28*28, which can be re-arranged to a row vector x with size 784 so that input_size=784\n",
    "\n",
    "    num_classes=10 in MNIST, since there are 10 possible types of digits (from 0 to 9)\n",
    "\n",
    "    Therefore, the size of W is 10*784 and the size of b is 1*10 \n",
    "\n",
    "In summary, Linear model: xW^{T}+b\n",
    "\n",
    "    The size of W is num_classes*input_size\n",
    "\n",
    "    The size of b is 1*num_classes\n",
    "\n",
    "    The size of input x is 1*input_size (if batch_size=1)"
   ]
  },
  {
   "cell_type": "markdown",
   "id": "2f535dac",
   "metadata": {},
   "source": [
    "# 2. Load a Dataset\n",
    "The MNIST database of handwritten digits has a trainig dataset of 60,000 examples and a test dataset of 10,000 examples.\n",
    "\n",
    "The digits in this database are centered in a fixed-size image (1*28*28)"
   ]
  },
  {
   "cell_type": "code",
   "execution_count": 4,
   "id": "a6023047",
   "metadata": {},
   "outputs": [
    {
     "name": "stdout",
     "output_type": "stream",
     "text": [
      "tensor([3, 4])\n",
      "torch.Size([2, 1, 28, 28])\n",
      "torch.Size([28, 28])\n"
     ]
    },
    {
     "data": {
      "image/png": "[encoded data removed]",
      "text/plain": [
       "<Figure size 432x288 with 1 Axes>"
      ]
     },
     "metadata": {
      "needs_background": "light"
     },
     "output_type": "display_data"
    },
    {
     "name": "stdout",
     "output_type": "stream",
     "text": [
      "The label of the given image is tensor([3, 4])\n"
     ]
    }
   ],
   "source": [
    "import torch\n",
    "import torchvision\n",
    "import matplotlib.pyplot as plt\n",
    "\n",
    "# transforms images to a pytorch tensor\n",
    "MNIST_transform = torchvision.transforms.ToTensor()\n",
    "\n",
    "# load the set of training images\n",
    "trainset = torchvision.datasets.MNIST(root = './data', train = True, download = True, transform = MNIST_transform)\n",
    "trainloader = torch.utils.data.DataLoader(trainset, batch_size = 2, shuffle = True)\n",
    "\n",
    "# load the set of test images\n",
    "testset = torchvision.datasets.MNIST(root = './data', train = False, download = True, transform = MNIST_transform)\n",
    "testloader = torch.utils.data.DataLoader(testset, batch_size = 1, shuffle = False)\n",
    "\n",
    "# Plot some of images of digits\n",
    "def plot_images(images):\n",
    "    images_for_plot = images[0,0,:,:] # extract the 28*28 tensor from the tensor (image size)\n",
    "    print(images_for_plot.size())\n",
    "    plt.imshow(images_for_plot, cmap='gray')  # plot the image with colormaps='gray'\n",
    "    plt.show()\n",
    "\n",
    "for i, (images, labels) in enumerate(trainloader): # ith batch of images and labels\n",
    "    print(images.size())  # [batch_size, channel_size, image_size_x, image_size_y]\n",
    "    plot_images(images)\n",
    "    print('The label of the given image is',labels) \n",
    "    break  #force to stop the for loop"
   ]
  },
  {
   "cell_type": "markdown",
   "id": "a9b3b1c5",
   "metadata": {},
   "source": [
    "# 3. Train the Logistic Regression Model and Test the Training/Test Accuracy\n",
    "Using the model provided above, and using the loss function, which is definied by\n",
    "$$L(\\theta) :=\\frac{1}{N} \\sum_{j=1}^N\\ell(y_j, h(x_j; \\theta)).$$\n",
    "Here,N represents the size of dataset given, and $\\ell(y_j,h(x_j; \\theta))$ is the  general distance between real label and predicted label.\n",
    "\n",
    " $h(x_j; \\theta)$ is a probability distribution of data $x$.\n",
    " \n",
    " \n",
    " We are also able to find the training/test accuracy by dividing number of correct classification in a dataset by the total number of data in dataset.\n",
    " \n",
    " i.e., accuracy $ = \\frac{\\text{The number of correct classifications in a dataset}}{\\text{the total number of data in a dataset}}$"
   ]
  },
  {
   "cell_type": "code",
   "execution_count": 5,
   "id": "3b4bff13",
   "metadata": {},
   "outputs": [
    {
     "name": "stdout",
     "output_type": "stream",
     "text": [
      "Epoch: 1, Training accuracy: 89.54499816894531%, Test accuracy: 91.18000030517578%\n",
      "Epoch: 2, Training accuracy: 91.43999481201172%, Test accuracy: 91.68000030517578%\n",
      "Epoch: 3, Training accuracy: 91.76667022705078%, Test accuracy: 92.02999877929688%\n",
      "Epoch: 4, Training accuracy: 92.11500549316406%, Test accuracy: 92.31999969482422%\n"
     ]
    }
   ],
   "source": [
    "import torch\n",
    "import torch.nn as nn\n",
    "import torch.optim as optim\n",
    "import torchvision\n",
    "import matplotlib.pyplot as plt\n",
    "\n",
    "# model\n",
    "def model(input_size, num_Classes):\n",
    "    return nn.Linear(input_size, num_classes)\n",
    "\n",
    "#initialize\n",
    "input_size = 784 # 1*28*28\n",
    "num_classes = 10 #mnist nums\n",
    "\n",
    "my_model = model(input_size, num_classes)\n",
    "\n",
    "# Cross Entropy loss\n",
    "criterion = nn.CrossEntropyLoss()\n",
    "\n",
    "# Training algorithm\n",
    "    # Using Stochastic gradient descent method\n",
    "    # Step size of 0.1\n",
    "optimizer = optim.SGD(my_model.parameters(), lr = 0.2)\n",
    "\n",
    "# Dataset Loading\n",
    "MNIST_transform = torchvision.transforms.ToTensor()\n",
    "\n",
    "# Training\n",
    "    # Can change batch_size\n",
    "trainset = torchvision.datasets.MNIST(root = './data', train = True, download = True, transform = MNIST_transform)\n",
    "trainloader = torch.utils.data.DataLoader(trainset, batch_size = 30, shuffle = True)\n",
    "\n",
    "# Test\n",
    "    # Can change batch_size\n",
    "testset = torchvision.datasets.MNIST(root = '/data', train = False, download = True, transform = MNIST_transform)\n",
    "testloader = torch.utils.data.DataLoader(testset, batch_size = 20, shuffle = False)\n",
    "\n",
    "# Can change num_epochs\n",
    "num_epochs = 4\n",
    "for epoch in range(num_epochs):\n",
    "    train_num_correct = 0\n",
    "    train_total = 0\n",
    "    for i, (images, labels) in enumerate(trainloader):\n",
    "       \n",
    "        images = images.reshape(images.size(0), 28*28) # [batch_size, 784]\n",
    "        \n",
    "        outputs = my_model(images)\n",
    "        \n",
    "        loss = criterion(outputs, labels)\n",
    "        \n",
    "        optimizer.zero_grad()\n",
    "        loss.backward()\n",
    "        optimizer.step()\n",
    "        train_p_max, train_predicted = torch.max(outputs, 1)\n",
    "        train_total += labels.size(0)\n",
    "        train_num_correct += (train_predicted == labels).sum()\n",
    "        train_accuracy = 100*(train_num_correct/train_total)\n",
    "\n",
    "    test_num_correct = 0\n",
    "    test_total = 0\n",
    "            \n",
    "    for i, (images, labels) in enumerate(testloader):\n",
    "        images = images.reshape(images.size(0), 28*28)\n",
    "        outputs = my_model(images)\n",
    "        p_max, predicted = torch.max(outputs, 1)\n",
    "        test_total += labels.size(0)\n",
    "        test_num_correct += (predicted == labels).sum()\n",
    "        test_accuracy = 100*(test_num_correct/test_total)\n",
    "\n",
    "    print('Epoch: {}, Training accuracy: {}%, Test accuracy: {}%' .format(epoch+1, train_accuracy, test_accuracy))"
   ]
  },
  {
   "cell_type": "markdown",
   "id": "dd9c91a5",
   "metadata": {},
   "source": [
    "Epoch represents number of times an entire training dataset is used to train the neural network.\n",
    "\n",
    "In this case, we have four epoches, which means an entire dataset has been passed through the neural network four times."
   ]
  }
 ],
 "metadata": {
  "kernelspec": {
   "display_name": "Python 3 (ipykernel)",
   "language": "python",
   "name": "python3"
  },
  "language_info": {
   "codemirror_mode": {
    "name": "ipython",
    "version": 3
   },
   "file_extension": ".py",
   "mimetype": "text/x-python",
   "name": "python",
   "nbconvert_exporter": "python",
   "pygments_lexer": "ipython3",
   "version": "3.9.7"
  }
 },
 "nbformat": 4,
 "nbformat_minor": 5
}
